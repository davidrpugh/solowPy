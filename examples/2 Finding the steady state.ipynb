{
 "cells": [
  {
   "cell_type": "markdown",
   "metadata": {},
   "source": [
    "<div align='center' ><img src='https://raw.githubusercontent.com/davidrpugh/numerical-methods/master/images/sgpe-logo.jpg' width=\"1200\" height=\"100\"></div>\n",
    "<div align='right'><img src='https://raw.githubusercontent.com/davidrpugh/numerical-methods/master/images/SIRElogolweb.jpg' width=\"1200\" height=\"100\"></div>"
   ]
  },
  {
   "cell_type": "code",
   "execution_count": 9,
   "metadata": {
    "collapsed": false
   },
   "outputs": [],
   "source": [
    "%matplotlib inline"
   ]
  },
  {
   "cell_type": "code",
   "execution_count": 8,
   "metadata": {
    "collapsed": false
   },
   "outputs": [],
   "source": [
    "import matplotlib.pyplot as plt\n",
    "import numpy as np\n",
    "import sympy as sym\n",
    "sym.init_printing() \n",
    "\n",
    "import pypwt\n",
    "import solowpy"
   ]
  },
  {
   "cell_type": "markdown",
   "metadata": {},
   "source": [
    "# 2. Computing the steady state\n",
    "\n",
    "Traditionally, most analysis of the Solow model focuses almost excusively on the long run steady state of the model. Recall that the steady state of the Solow model is the value of capital stock (per unit effective labor) that solves\n",
    "\n",
    "$$ 0 = sf(k^*) - (g + n + \\delta)k^*. \\tag{2.0.1} $$\n",
    "\n",
    "In words: in the long-run, capital stock (per unit effective labor) converges to the value that balances actual investment, $sf(k)$, with effective depreciation, $(g + n + \\delta)$. Given the assumption made about the aggregate production technology, $F$, and its intensive form, $f$, there is always a unique value $k^* >0$ satisfying equation 2.0.1."
   ]
  },
  {
   "cell_type": "code",
   "execution_count": 10,
   "metadata": {
    "collapsed": false
   },
   "outputs": [],
   "source": [
    "# define model parameters\n",
    "ces_params = {'A0': 1.0, 'L0': 1.0, 'g': 0.02, 'n': 0.03, 's': 0.15,\n",
    "              'delta': 0.05, 'alpha': 0.33, 'sigma': 0.95}\n",
    "\n",
    "# create an instance of the solow.Model class\n",
    "ces_model = solowpy.CESModel(params=ces_params)"
   ]
  },
  {
   "cell_type": "markdown",
   "metadata": {},
   "source": [
    "## 2.1 Analytic results\n",
    "For many (all?) of the commonly used functional forms for $F$ one can easily derive a closed-form expression for the steady state value of capital stock (per unit effective labor). For example, assuming $F$ is constant elasticity of substitution (CES), the analytical solution for $k^*$ is\n",
    "\n",
    "$$ k^* = \\left[\\frac{1-\\alpha}{\\bigg(\\frac{g+n+\\delta}{s}\\bigg)^{\\rho}-\\alpha}\\right]^{\\frac{1}{\\rho}} \\tag{2.1.0} $$\n",
    "\n",
    "This analytic solution is available via the `steady_state` attribute."
   ]
  },
  {
   "cell_type": "code",
   "execution_count": 11,
   "metadata": {
    "collapsed": false
   },
   "outputs": [],
   "source": [
    "# check the docstring...\n",
    "ces_model.steady_state?"
   ]
  },
  {
   "cell_type": "code",
   "execution_count": 5,
   "metadata": {
    "collapsed": false
   },
   "outputs": [
    {
     "data": {
      "image/png": "[encoded data removed]",
      "text/latex": [
       "$$1.82583173106$$"
      ],
      "text/plain": [
       "1.82583173106"
      ]
     },
     "execution_count": 5,
     "metadata": {},
     "output_type": "execute_result"
    }
   ],
   "source": [
    "ces_model.steady_state"
   ]
  },
  {
   "cell_type": "markdown",
   "metadata": {},
   "source": [
    "## 2.2 Numerical methods\n",
    "Although it is trivial to derive an analytic expression for the long-run equilibrium of the Solow model for most intensive production functions, the Solow model serves as a good illustrative case for various numerical methods for solving non-linear equations.\n",
    "\n",
    "The `solowpy.Model.find_steady_state` method provides a simple interface to the various 1D root finding routines available in `scipy.optimize` and uses them to solve the non-linear equation 2.0.1. To see the list of currently supported methods, check out the docstring for the `Model.find_steady_state` method..."
   ]
  },
  {
   "cell_type": "code",
   "execution_count": 13,
   "metadata": {
    "collapsed": false
   },
   "outputs": [],
   "source": [
    "solowpy.Model.find_steady_state?"
   ]
  },
  {
   "cell_type": "markdown",
   "metadata": {},
   "source": [
    "### Example usage\n",
    "Guessing that the true steady state value lies somewhere between `1e-6` and `1e6`, compute the steady state value of capital stock (per unit effective labor) using the bisection method. "
   ]
  },
  {
   "cell_type": "code",
   "execution_count": 14,
   "metadata": {
    "collapsed": false
   },
   "outputs": [],
   "source": [
    "k_star, result = ces_model.find_steady_state(1e-6, 1e6, method='bisect', full_output=True)"
   ]
  },
  {
   "cell_type": "markdown",
   "metadata": {},
   "source": [
    "We can display the value and confirm that the algorithm did indeed converge as follows."
   ]
  },
  {
   "cell_type": "code",
   "execution_count": 15,
   "metadata": {
    "collapsed": false
   },
   "outputs": [
    {
     "name": "stdout",
     "output_type": "stream",
     "text": [
      "The steady-state value is 1.82583173106\n",
      "Did the bisection algorithm coverge? True\n"
     ]
    }
   ],
   "source": [
    "print(\"The steady-state value is {}\".format(k_star))\n",
    "print(\"Did the bisection algorithm coverge? {}\".format(result.converged))"
   ]
  },
  {
   "cell_type": "markdown",
   "metadata": {},
   "source": [
    "### 2.1.1 Comparing the various methods\n",
    "The various methods, for the most part, are equally accurate..."
   ]
  },
  {
   "cell_type": "code",
   "execution_count": 16,
   "metadata": {
    "collapsed": false
   },
   "outputs": [
    {
     "name": "stdout",
     "output_type": "stream",
     "text": [
      "Steady state value computed using brenth is 1.82583173106\n",
      "Absolute error in is 1.08801856413e-14\n",
      "\n",
      "Steady state value computed using brentq is 1.82583173106\n",
      "Absolute error in is 2.84217094304e-14\n",
      "\n",
      "Steady state value computed using ridder is 1.82583173106\n",
      "Absolute error in is 9.76330127855e-13\n",
      "\n",
      "Steady state value computed using bisect is 1.82583173106\n",
      "Absolute error in is 1.01718633516e-12\n",
      "\n"
     ]
    }
   ],
   "source": [
    "valid_methods = ['brenth', 'brentq', 'ridder', 'bisect']\n",
    "\n",
    "for method in valid_methods:\n",
    "    actual_ss = ces_model.find_steady_state(1e-6, 1e6, method=method)\n",
    "    expected_ss = ces_model.steady_state\n",
    "\n",
    "    print(\"Steady state value computed using {} is {}\".format(method, actual_ss)) \n",
    "    print(\"Absolute error in is {}\\n\".format(abs(actual_ss - expected_ss)))"
   ]
  },
  {
   "cell_type": "markdown",
   "metadata": {},
   "source": [
    "...however the `brentq` and `brenth` routines are generally more efficient."
   ]
  },
  {
   "cell_type": "code",
   "execution_count": 17,
   "metadata": {
    "collapsed": false
   },
   "outputs": [
    {
     "name": "stdout",
     "output_type": "stream",
     "text": [
      "Profiling results using brenth:\n",
      "1 loop, best of 3: 68.5 µs per loop\n",
      "\n",
      "Profiling results using brentq:\n",
      "1 loop, best of 3: 68.5 µs per loop\n",
      "\n",
      "Profiling results using ridder:\n",
      "1 loop, best of 3: 236 µs per loop\n",
      "\n",
      "Profiling results using bisect:\n",
      "1 loop, best of 3: 296 µs per loop\n",
      "\n"
     ]
    }
   ],
   "source": [
    "valid_methods = ['brenth', 'brentq', 'ridder', 'bisect']\n",
    "\n",
    "for method in valid_methods:\n",
    "    print(\"Profiling results using {}:\".format(method)) \n",
    "    %timeit -n 1 -r 3 ces_model.find_steady_state(1e-6, 1e6, method=method)\n",
    "    print(\"\")"
   ]
  },
  {
   "cell_type": "markdown",
   "metadata": {},
   "source": [
    "While the bisection method tends to be slow (relative to other methods), so long as the user brackets the true steady state value, it is guranteed to converge. Using numerical methods to solve for the steady state of the Solow model illustrates a trade-off between robustness (i.e., guaranteed convergence) and computational efficiency (i.e., speed) that is commonly encountered in numerical work."
   ]
  },
  {
   "cell_type": "code",
   "execution_count": null,
   "metadata": {
    "collapsed": false
   },
   "outputs": [],
   "source": []
  }
 ],
 "metadata": {
  "kernelspec": {
   "display_name": "Python 2",
   "language": "python",
   "name": "python2"
  },
  "language_info": {
   "codemirror_mode": {
    "name": "ipython",
    "version": 2
   },
   "file_extension": ".py",
   "mimetype": "text/x-python",
   "name": "python",
   "nbconvert_exporter": "python",
   "pygments_lexer": "ipython2",
   "version": "2.7.13"
  }
 },
 "nbformat": 4,
 "nbformat_minor": 0
}
